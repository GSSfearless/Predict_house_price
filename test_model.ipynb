{
 "cells": [
  {
   "cell_type": "code",
   "execution_count": 1,
   "metadata": {},
   "outputs": [],
   "source": [
    "import pandas as pd\n",
    "import numpy as np\n",
    "import matplotlib.pyplot as plt\n",
    "import os\n",
    "from sklearn.model_selection import train_test_split\n",
    "from sklearn.preprocessing import StandardScaler\n",
    "import warnings\n",
    "# filter warnings\n",
    "warnings.filterwarnings('ignore')\n",
    "# 正常显示中文\n",
    "from pylab import mpl\n",
    "mpl.rcParams['font.sans-serif'] = ['SimHei']\n",
    "# 正常显示符号\n",
    "from matplotlib import rcParams\n",
    "rcParams['axes.unicode_minus']=False\n",
    "\n"
   ]
  },
  {
   "cell_type": "code",
   "execution_count": 2,
   "metadata": {},
   "outputs": [],
   "source": [
    "os.chdir('C:/Users/GSS-fearless/Desktop/HW2/house-prices-advanced-regression-techniques')\n",
    "data=pd.read_csv('train.csv')\n"
   ]
  },
  {
   "cell_type": "code",
   "execution_count": 3,
   "metadata": {},
   "outputs": [],
   "source": [
    "data['MSSubClass']=data['MSSubClass'].astype(str)  #MSSubClass是一个分类变量，所以要把他的数据类型改为‘’str‘’\n",
    "Id=data.loc[:,'Id']   #ID先提取出来，后面合并表格要用\n",
    "data=data.drop('Id',axis=1)\n",
    "\n",
    "x=data.loc[:,data.columns!='SalePrice']\n",
    "y=data.loc[:,'SalePrice']   \n",
    "mean_cols=x.mean()\n",
    "x=x.fillna(mean_cols)  #填充缺失值\n",
    "x_dum=pd.get_dummies(x)    #独热编码\n",
    "x_train,x_test,y_train,y_test = train_test_split(x_dum,y,test_size = 0.3,random_state = 1)\n",
    "\n",
    "#再整理出一组标准化的数据，通过对比可以看出模型的效果有没有提高\n",
    "x_dum=pd.get_dummies(x)\n",
    "scale_x=StandardScaler()\n",
    "x1=scale_x.fit_transform(x_dum)\n",
    "scale_y=StandardScaler()\n",
    "y=np.array(y).reshape(-1,1)\n",
    "y1=scale_y.fit_transform(y)\n",
    "y1=y1.ravel()\n",
    "x_train1,x_test1,y_train1,y_test1 = train_test_split(x1,y1,test_size = 0.3,random_state = 1)\n",
    "\n"
   ]
  },
  {
   "cell_type": "code",
   "execution_count": 5,
   "metadata": {},
   "outputs": [],
   "source": [
    "from sklearn.linear_model import LinearRegression\n",
    "from sklearn.neighbors import KNeighborsRegressor\n",
    "from sklearn.svm import SVR\n",
    "from sklearn.linear_model import Lasso\n",
    "from sklearn.linear_model import Ridge\n",
    "from sklearn.neural_network import MLPRegressor\n",
    "from sklearn.tree import DecisionTreeRegressor\n",
    "from sklearn.tree import ExtraTreeRegressor\n",
    "#from xgboost import XGBRegressor\n",
    "from sklearn.ensemble import RandomForestRegressor\n",
    "from sklearn.ensemble import AdaBoostRegressor\n",
    "from sklearn.ensemble import GradientBoostingRegressor\n",
    "from sklearn.ensemble import BaggingRegressor\n",
    "\n",
    "\n"
   ]
  },
  {
   "cell_type": "code",
   "execution_count": 8,
   "metadata": {},
   "outputs": [],
   "source": [
    "models=[LinearRegression(),KNeighborsRegressor(),SVR(),Ridge(),Lasso(),MLPRegressor(alpha=20),DecisionTreeRegressor(),ExtraTreeRegressor(),RandomForestRegressor(),AdaBoostRegressor(),GradientBoostingRegressor(),BaggingRegressor()]\n",
    "models_str=['LinearRegression','KNNRegressor','SVR','Ridge','Lasso','MLPRegressor','DecisionTree','ExtraTree','RandomForest','AdaBoost','GradientBoost','Bagging']\n",
    "score_=[]\n",
    "\n"
   ]
  },
  {
   "cell_type": "code",
   "execution_count": 9,
   "metadata": {},
   "outputs": [
    {
     "name": "stdout",
     "output_type": "stream",
     "text": [
      "开始训练模型：LinearRegression\n",
      "LinearRegression 得分:0.8617862569556008\n",
      "开始训练模型：KNNRegressor\n",
      "KNNRegressor 得分:0.6349265591296906\n",
      "开始训练模型：SVR\n",
      "SVR 得分:-0.03770551856874049\n",
      "开始训练模型：Ridge\n",
      "Ridge 得分:0.874995734267244\n",
      "开始训练模型：Lasso\n",
      "Lasso 得分:0.8745549798771067\n",
      "开始训练模型：MLPRegressor\n",
      "MLPRegressor 得分:0.5725241312278226\n",
      "开始训练模型：DecisionTree\n",
      "DecisionTree 得分:0.6948363091501704\n",
      "开始训练模型：ExtraTree\n",
      "ExtraTree 得分:0.7377523294849916\n",
      "开始训练模型：RandomForest\n",
      "RandomForest 得分:0.8997746286299076\n",
      "开始训练模型：AdaBoost\n",
      "AdaBoost 得分:0.8444184411617536\n",
      "开始训练模型：GradientBoost\n",
      "GradientBoost 得分:0.9133503199724958\n",
      "开始训练模型：Bagging\n",
      "Bagging 得分:0.9095310463260666\n"
     ]
    }
   ],
   "source": [
    "for name,model in zip(models_str,models):\n",
    "    print('开始训练模型：'+name)\n",
    "    model=model   #建立模型\n",
    "    model.fit(x_train,y_train)\n",
    "    y_pred=model.predict(x_test)  \n",
    "    score=model.score(x_test,y_test)\n",
    "    score_.append(str(score)[:5])\n",
    "    print(name +' 得分:'+str(score))\n"
   ]
  },
  {
   "cell_type": "code",
   "execution_count": 10,
   "metadata": {},
   "outputs": [],
   "source": [
    "y_log=np.log(y)\n",
    "x_train,x_test,y_train_log,y_test_log = train_test_split(x_dum,y_log,test_size = 0.3,random_state = 1)\n"
   ]
  },
  {
   "cell_type": "code",
   "execution_count": 11,
   "metadata": {},
   "outputs": [
    {
     "name": "stdout",
     "output_type": "stream",
     "text": [
      "开始训练模型：LinearRegression\n",
      "LinearRegression 得分:0.8617862569556008\n",
      "开始训练模型：KNNRegressor\n",
      "KNNRegressor 得分:0.6349265591296906\n",
      "开始训练模型：SVR\n",
      "SVR 得分:-0.03770551856874049\n",
      "开始训练模型：Ridge\n",
      "Ridge 得分:0.874995734267244\n",
      "开始训练模型：Lasso\n",
      "Lasso 得分:0.8745549798771067\n",
      "开始训练模型：MLPRegressor\n",
      "MLPRegressor 得分:0.631027472156046\n",
      "开始训练模型：DecisionTree\n",
      "DecisionTree 得分:0.8230178672150155\n",
      "开始训练模型：ExtraTree\n",
      "ExtraTree 得分:0.7464065665377217\n",
      "开始训练模型：RandomForest\n",
      "RandomForest 得分:0.8999755801622865\n",
      "开始训练模型：AdaBoost\n",
      "AdaBoost 得分:0.8401899654496833\n",
      "开始训练模型：GradientBoost\n",
      "GradientBoost 得分:0.9182426549817959\n",
      "开始训练模型：Bagging\n",
      "Bagging 得分:0.8861636817458185\n"
     ]
    }
   ],
   "source": [
    "for name,model in zip(models_str,models):\n",
    "    print('开始训练模型：'+name)\n",
    "    model=model   #建立模型\n",
    "    model.fit(x_train,y_train)\n",
    "    y_pred=model.predict(x_test)  \n",
    "    score=model.score(x_test,y_test)\n",
    "    score_.append(str(score)[:5])\n",
    "    print(name +' 得分:'+str(score))\n"
   ]
  },
  {
   "cell_type": "markdown",
   "metadata": {},
   "source": [
    "# 标准化"
   ]
  },
  {
   "cell_type": "code",
   "execution_count": 13,
   "metadata": {},
   "outputs": [
    {
     "name": "stdout",
     "output_type": "stream",
     "text": [
      "开始训练模型：LinearRegression\n",
      "LinearRegression 得分:-2.190532294206726e+20\n",
      "开始训练模型：KNNRegressor\n",
      "KNNRegressor 得分:0.7173346620628371\n",
      "开始训练模型：SVR\n",
      "SVR 得分:0.7410716690153423\n",
      "开始训练模型：Ridge\n",
      "Ridge 得分:0.8689275376724439\n",
      "开始训练模型：Lasso\n",
      "Lasso 得分:-0.00041647622797813533\n",
      "开始训练模型：MLPRegressor\n",
      "MLPRegressor 得分:0.8547557772619298\n",
      "开始训练模型：DecisionTree\n",
      "DecisionTree 得分:0.7432527524561217\n",
      "开始训练模型：ExtraTree\n",
      "ExtraTree 得分:0.7139030586937467\n",
      "开始训练模型：RandomForest\n",
      "RandomForest 得分:0.8933608088682427\n",
      "开始训练模型：AdaBoost\n",
      "AdaBoost 得分:0.81055410681103\n",
      "开始训练模型：GradientBoost\n",
      "GradientBoost 得分:0.9211991812481339\n",
      "开始训练模型：Bagging\n",
      "Bagging 得分:0.86750756798308\n"
     ]
    }
   ],
   "source": [
    "models=[LinearRegression(),KNeighborsRegressor(),SVR(),Ridge(),Lasso(),MLPRegressor(alpha=20),DecisionTreeRegressor(),ExtraTreeRegressor(),RandomForestRegressor(),AdaBoostRegressor(),GradientBoostingRegressor(),BaggingRegressor()]\n",
    "models_str=['LinearRegression','KNNRegressor','SVR','Ridge','Lasso','MLPRegressor','DecisionTree','ExtraTree','RandomForest','AdaBoost','GradientBoost','Bagging']\n",
    "score_1=[]\n",
    "for name,model in zip(models_str,models):\n",
    "    print('开始训练模型：'+name)\n",
    "    model=model\n",
    "    model.fit(x_train1,y_train1)\n",
    "    y_pred=model.predict(x_test1)\n",
    "    score=model.score(x_test1,y_test1)\n",
    "    score_1.append(str(score)[:5])\n",
    "    print(name +' 得分:'+str(score))\n"
   ]
  },
  {
   "cell_type": "code",
   "execution_count": 14,
   "metadata": {},
   "outputs": [
    {
     "name": "stdout",
     "output_type": "stream",
     "text": [
      "开始训练模型：LinearRegression 平滑处理\n",
      "LinearRegression 得分:0.8899808420810953\n",
      "开始训练模型：KNNRegressor 标准化处理\n",
      "KNNRegressor 得分:0.7173346620628371\n",
      "开始训练模型：SVR 标准化处理\n",
      "SVR 得分:0.7410716690153423\n",
      "开始训练模型：Ridge 平滑处理\n",
      "Ridge 得分:0.8911834458339539\n",
      "开始训练模型：Lasso 普通\n",
      "Lasso 得分:0.8745549798771067\n",
      "开始训练模型：MLPRegressor 标准化处理\n",
      "MLPRegressor 得分:0.8571992970856925\n",
      "开始训练模型：DecisionTree 普通\n",
      "DecisionTree 得分:0.7380241173468204\n",
      "开始训练模型：ExtraTree 平滑处理\n",
      "ExtraTree 得分:0.7063090566146948\n",
      "开始训练模型：RandomForest 普通\n",
      "RandomForest 得分:0.9034012078127875\n",
      "开始训练模型：AdaBoost 标准化处理\n",
      "AdaBoost 得分:0.8356095655568297\n",
      "开始训练模型：GradientBoost 普通\n",
      "GradientBoost 得分:0.913051065386047\n",
      "开始训练模型：Bagging 标准化处理\n",
      "Bagging 得分:0.879846753420893\n"
     ]
    }
   ],
   "source": [
    "models=[LinearRegression(),KNeighborsRegressor(),SVR(),Ridge(),Lasso(),MLPRegressor(alpha=20),DecisionTreeRegressor(),ExtraTreeRegressor(),RandomForestRegressor(),AdaBoostRegressor(),GradientBoostingRegressor(),BaggingRegressor()]\n",
    "models_str=['LinearRegression','KNNRegressor','SVR','Ridge','Lasso','MLPRegressor','DecisionTree','ExtraTree','RandomForest','AdaBoost','GradientBoost','Bagging']\n",
    "score_adapt=[]\n",
    "for name,model in zip(models_str,models):\n",
    "    if name in ['LinearRegression','Ridge','ExtraTree']:   \n",
    "        print('开始训练模型：'+name+' 平滑处理')\n",
    "        model=model\n",
    "        model.fit(x_train,y_train_log)\n",
    "        y_pred=model.predict(x_test)     \n",
    "        score=model.score(x_test,y_test_log)\n",
    "        score_adapt.append(str(score)[:5])\n",
    "        print(name +' 得分:'+str(score))\n",
    "        \n",
    "    elif name in ['SVR','MLPRegressor','Bagging','AdaBoost','KNNRegressor']:\n",
    "        print('开始训练模型：'+name+' 标准化处理')\n",
    "        model=model\n",
    "        model.fit(x_train1,y_train1)\n",
    "        y_pred=model.predict(x_test1)\n",
    "        ypred_original=scale_y.inverse_transform(y_pred)\n",
    "        score=model.score(x_test1,y_test1)\n",
    "        score_adapt.append(str(score)[:5])       \n",
    "        print(name +' 得分:'+str(score))\n",
    "        \n",
    "    else:\n",
    "        print('开始训练模型：'+name+' 普通')\n",
    "        model=model\n",
    "        model.fit(x_train,y_train)\n",
    "        y_pred=model.predict(x_test)\n",
    "        ypred_original=scale_y.inverse_transform(y_pred)\n",
    "        score=model.score(x_test,y_test)\n",
    "        score_adapt.append(str(score)[:5])       \n",
    "        print(name +' 得分:'+str(score))\n"
   ]
  },
  {
   "cell_type": "code",
   "execution_count": 17,
   "metadata": {},
   "outputs": [
    {
     "name": "stdout",
     "output_type": "stream",
     "text": [
      "开始训练模型：LinearRegression 平滑处理\n",
      "LinearRegression 得分:0.8899808420810953\n",
      "开始训练模型：KNNRegressor 分开标准化处理\n",
      "KNNRegressor 得分:0.7173346620628371\n",
      "开始训练模型：SVR 分开标准化处理\n",
      "SVR 得分:0.7410716690153423\n",
      "开始训练模型：Ridge 平滑处理\n",
      "Ridge 得分:0.8911834458339539\n",
      "开始训练模型：Lasso 普通\n",
      "Lasso 得分:0.8745549798771067\n",
      "开始训练模型：MLPRegressor 标准化处理\n",
      "MLPRegressor 得分:0.8629297349384186\n",
      "开始训练模型：DecisionTree 普通\n",
      "DecisionTree 得分:0.7656757642489574\n",
      "开始训练模型：ExtraTree 标准化处理\n",
      "ExtraTree 得分:0.661822394054367\n",
      "开始训练模型：RandomForest 普通\n",
      "RandomForest 得分:0.8994168344027466\n",
      "开始训练模型：AdaBoost 标准化处理\n",
      "AdaBoost 得分:0.8423186387940538\n",
      "开始训练模型：GradientBoost 普通\n",
      "GradientBoost 得分:0.9146033132124927\n",
      "开始训练模型：Bagging 标准化处理\n",
      "Bagging 得分:0.8895232675020142\n"
     ]
    }
   ],
   "source": [
    "score_x=[]\n",
    "for name,model in zip(models_str,models):\n",
    "    if name in ['MLPRegressor','AdaBoost','Bagging','ExtraTree']:\n",
    "        print('开始训练模型：'+name+' 标准化处理')\n",
    "        model=model\n",
    "        model.fit(x_train1,y_train1)\n",
    "        y_pred=model.predict(x_test1)\n",
    "        ypred_original=scale_y.inverse_transform(y_pred)\n",
    "        score=model.score(x_test1,y_test1)\n",
    "        score_x.append(str(score)[:5])       \n",
    "        print(name +' 得分:'+str(score))\n",
    "    elif name in['SVR','KNNRegressor']:\n",
    "        print('开始训练模型：'+name+' 分开标准化处理')\n",
    "        model=model\n",
    "        model.fit(x_train1,y_train1)\n",
    "        y_pred=model.predict(x_test1)\n",
    "        ypred_original=scale_y.inverse_transform(y_pred)\n",
    "        score=model.score(x_test1,y_test1)\n",
    "        score_x.append(str(score)[:5])       \n",
    "        print(name +' 得分:'+str(score))\n",
    "\n",
    "    elif name in ['LinearRegression','Ridge']:\n",
    "        \n",
    "        print('开始训练模型：'+name+' 平滑处理')\n",
    "        model=model\n",
    "        model.fit(x_train,y_train_log)\n",
    "        y_pred=model.predict(x_test)     \n",
    "        score=model.score(x_test,y_test_log)\n",
    "        score_x.append(str(score)[:5])\n",
    "        print(name +' 得分:'+str(score))\n",
    "\n",
    "    else:\n",
    "        print('开始训练模型：'+name+' 普通')\n",
    "        model=model\n",
    "        model.fit(x_train,y_train)\n",
    "        y_pred=model.predict(x_test)\n",
    "        ypred_original=scale_y.inverse_transform(y_pred)\n",
    "        score=model.score(x_test,y_test)\n",
    "        score_x.append(str(score)[:5])       \n",
    "        print(name +' 得分:'+str(score))\n"
   ]
  },
  {
   "cell_type": "code",
   "execution_count": 26,
   "metadata": {},
   "outputs": [],
   "source": [
    "from sklearn.linear_model import ElasticNet, Lasso\n",
    "from sklearn.ensemble import RandomForestRegressor,  GradientBoostingRegressor\n",
    "from sklearn.pipeline import make_pipeline\n",
    "from sklearn.preprocessing import RobustScaler\n",
    "from sklearn.base import BaseEstimator, TransformerMixin, RegressorMixin, clone\n",
    "from sklearn.model_selection import KFold, cross_val_score, train_test_split\n",
    "from sklearn.metrics import mean_squared_error\n"
   ]
  },
  {
   "cell_type": "code",
   "execution_count": 20,
   "metadata": {},
   "outputs": [],
   "source": [
    "df_train = pd.read_csv('C:/Users/GSS-fearless/Desktop/HW2/house-prices-advanced-regression-techniques/train.csv')\n"
   ]
  },
  {
   "cell_type": "code",
   "execution_count": 21,
   "metadata": {},
   "outputs": [
    {
     "name": "stdout",
     "output_type": "stream",
     "text": [
      "The train data size before dropping Id feature is : (1460, 81) \n",
      "The test data size before dropping Id feature is : (1459, 80) \n"
     ]
    }
   ],
   "source": [
    "train = pd.read_csv('C:/Users/GSS-fearless/Desktop/HW2/house-prices-advanced-regression-techniques/train.csv')\n",
    "test = pd.read_csv('C:/Users/GSS-fearless/Desktop/HW2/house-prices-advanced-regression-techniques/test.csv')\n",
    "\n",
    "#看看数据多大的\n",
    "print(\"The train data size before dropping Id feature is : {} \".format(train.shape))\n",
    "print(\"The test data size before dropping Id feature is : {} \".format(test.shape))\n",
    "\n",
    "#ID先留着，暂时不用\n",
    "train_ID = train['Id']\n",
    "test_ID = test['Id']\n",
    "\n",
    "#去掉ID\n",
    "train.drop(\"Id\", axis = 1, inplace = True)\n",
    "test.drop(\"Id\", axis = 1, inplace = True)\n",
    "\n"
   ]
  },
  {
   "cell_type": "code",
   "execution_count": 22,
   "metadata": {},
   "outputs": [
    {
     "data": {
      "image/png": "[encoded data removed]",
      "text/plain": [
       "<Figure size 432x288 with 1 Axes>"
      ]
     },
     "metadata": {
      "needs_background": "light"
     },
     "output_type": "display_data"
    }
   ],
   "source": [
    "fig, ax = plt.subplots()\n",
    "ax.scatter(x = train['GrLivArea'], y = train['SalePrice'])\n",
    "plt.ylabel('SalePrice', fontsize=13)\n",
    "plt.xlabel('GrLivArea', fontsize=13)\n",
    "plt.show()\n"
   ]
  },
  {
   "cell_type": "code",
   "execution_count": 23,
   "metadata": {},
   "outputs": [
    {
     "data": {
      "image/png": "[encoded data removed]",
      "text/plain": [
       "<Figure size 432x288 with 1 Axes>"
      ]
     },
     "metadata": {
      "needs_background": "light"
     },
     "output_type": "display_data"
    }
   ],
   "source": [
    "train = train.drop(train[(train['GrLivArea']>4000) & (train['SalePrice']<300000)].index)\n",
    "\n",
    "#Check the graphic again\n",
    "fig, ax = plt.subplots()\n",
    "ax.scatter(train['GrLivArea'], train['SalePrice'])\n",
    "plt.ylabel('SalePrice', fontsize=13)\n",
    "plt.xlabel('GrLivArea', fontsize=13)\n",
    "plt.show()\n"
   ]
  },
  {
   "cell_type": "code",
   "execution_count": 24,
   "metadata": {},
   "outputs": [
    {
     "name": "stdout",
     "output_type": "stream",
     "text": [
      "all_data size is : (2917, 79)\n"
     ]
    }
   ],
   "source": [
    "ntrain = train.shape[0]\n",
    "ntest = test.shape[0]\n",
    "y_train = train.SalePrice.values\n",
    "all_data = pd.concat((train, test)).reset_index(drop=True)\n",
    "all_data.drop(['SalePrice'], axis=1, inplace=True)\n",
    "print(\"all_data size is : {}\".format(all_data.shape))\n"
   ]
  },
  {
   "cell_type": "code",
   "execution_count": 25,
   "metadata": {},
   "outputs": [
    {
     "data": {
      "text/html": [
       "<div>\n",
       "<style scoped>\n",
       "    .dataframe tbody tr th:only-of-type {\n",
       "        vertical-align: middle;\n",
       "    }\n",
       "\n",
       "    .dataframe tbody tr th {\n",
       "        vertical-align: top;\n",
       "    }\n",
       "\n",
       "    .dataframe thead th {\n",
       "        text-align: right;\n",
       "    }\n",
       "</style>\n",
       "<table border=\"1\" class=\"dataframe\">\n",
       "  <thead>\n",
       "    <tr style=\"text-align: right;\">\n",
       "      <th></th>\n",
       "      <th>Missing Ratio</th>\n",
       "    </tr>\n",
       "  </thead>\n",
       "  <tbody>\n",
       "    <tr>\n",
       "      <th>PoolQC</th>\n",
       "      <td>99.691464</td>\n",
       "    </tr>\n",
       "    <tr>\n",
       "      <th>MiscFeature</th>\n",
       "      <td>96.400411</td>\n",
       "    </tr>\n",
       "    <tr>\n",
       "      <th>Alley</th>\n",
       "      <td>93.212204</td>\n",
       "    </tr>\n",
       "    <tr>\n",
       "      <th>Fence</th>\n",
       "      <td>80.425094</td>\n",
       "    </tr>\n",
       "    <tr>\n",
       "      <th>FireplaceQu</th>\n",
       "      <td>48.680151</td>\n",
       "    </tr>\n",
       "    <tr>\n",
       "      <th>LotFrontage</th>\n",
       "      <td>16.660953</td>\n",
       "    </tr>\n",
       "    <tr>\n",
       "      <th>GarageFinish</th>\n",
       "      <td>5.450806</td>\n",
       "    </tr>\n",
       "    <tr>\n",
       "      <th>GarageYrBlt</th>\n",
       "      <td>5.450806</td>\n",
       "    </tr>\n",
       "    <tr>\n",
       "      <th>GarageQual</th>\n",
       "      <td>5.450806</td>\n",
       "    </tr>\n",
       "    <tr>\n",
       "      <th>GarageCond</th>\n",
       "      <td>5.450806</td>\n",
       "    </tr>\n",
       "    <tr>\n",
       "      <th>GarageType</th>\n",
       "      <td>5.382242</td>\n",
       "    </tr>\n",
       "    <tr>\n",
       "      <th>BsmtExposure</th>\n",
       "      <td>2.811107</td>\n",
       "    </tr>\n",
       "    <tr>\n",
       "      <th>BsmtCond</th>\n",
       "      <td>2.811107</td>\n",
       "    </tr>\n",
       "    <tr>\n",
       "      <th>BsmtQual</th>\n",
       "      <td>2.776826</td>\n",
       "    </tr>\n",
       "    <tr>\n",
       "      <th>BsmtFinType2</th>\n",
       "      <td>2.742544</td>\n",
       "    </tr>\n",
       "    <tr>\n",
       "      <th>BsmtFinType1</th>\n",
       "      <td>2.708262</td>\n",
       "    </tr>\n",
       "    <tr>\n",
       "      <th>MasVnrType</th>\n",
       "      <td>0.822763</td>\n",
       "    </tr>\n",
       "    <tr>\n",
       "      <th>MasVnrArea</th>\n",
       "      <td>0.788481</td>\n",
       "    </tr>\n",
       "    <tr>\n",
       "      <th>MSZoning</th>\n",
       "      <td>0.137127</td>\n",
       "    </tr>\n",
       "    <tr>\n",
       "      <th>BsmtFullBath</th>\n",
       "      <td>0.068564</td>\n",
       "    </tr>\n",
       "  </tbody>\n",
       "</table>\n",
       "</div>"
      ],
      "text/plain": [
       "              Missing Ratio\n",
       "PoolQC            99.691464\n",
       "MiscFeature       96.400411\n",
       "Alley             93.212204\n",
       "Fence             80.425094\n",
       "FireplaceQu       48.680151\n",
       "LotFrontage       16.660953\n",
       "GarageFinish       5.450806\n",
       "GarageYrBlt        5.450806\n",
       "GarageQual         5.450806\n",
       "GarageCond         5.450806\n",
       "GarageType         5.382242\n",
       "BsmtExposure       2.811107\n",
       "BsmtCond           2.811107\n",
       "BsmtQual           2.776826\n",
       "BsmtFinType2       2.742544\n",
       "BsmtFinType1       2.708262\n",
       "MasVnrType         0.822763\n",
       "MasVnrArea         0.788481\n",
       "MSZoning           0.137127\n",
       "BsmtFullBath       0.068564"
      ]
     },
     "execution_count": 25,
     "metadata": {},
     "output_type": "execute_result"
    }
   ],
   "source": [
    "all_data_na = (all_data.isnull().sum() / len(all_data)) * 100\n",
    "all_data_na = all_data_na.drop(all_data_na[all_data_na == 0].index).sort_values(ascending=False)[:30]\n",
    "missing_data = pd.DataFrame({'Missing Ratio' :all_data_na})\n",
    "missing_data.head(20)\n"
   ]
  },
  {
   "cell_type": "code",
   "execution_count": 28,
   "metadata": {},
   "outputs": [],
   "source": [
    "n_folds = 5\n",
    "def rmsle_cv(model):\n",
    "    kf = KFold(n_folds, shuffle=True, random_state=42).get_n_splits(train.values)\n",
    "    rmse= np.sqrt(-cross_val_score(model, train.values, y_train, scoring=\"neg_mean_squared_error\", cv = kf))\n",
    "    return(rmse)\n"
   ]
  },
  {
   "cell_type": "code",
   "execution_count": 29,
   "metadata": {},
   "outputs": [],
   "source": [
    "lasso = make_pipeline(RobustScaler(), Lasso(alpha =0.0005, random_state=1))\n"
   ]
  },
  {
   "cell_type": "code",
   "execution_count": 30,
   "metadata": {},
   "outputs": [],
   "source": [
    "ENet = make_pipeline(RobustScaler(), ElasticNet(alpha=0.0005, l1_ratio=.9, random_state=3))\n"
   ]
  },
  {
   "cell_type": "code",
   "execution_count": 32,
   "metadata": {},
   "outputs": [],
   "source": [
    "GBoost = GradientBoostingRegressor(n_estimators=3000, learning_rate=0.05,\n",
    "                                   max_depth=4, max_features='sqrt',\n",
    "                                   min_samples_leaf=15, min_samples_split=10, \n",
    "                                   loss='huber', random_state =5)\n"
   ]
  },
  {
   "cell_type": "code",
   "execution_count": 33,
   "metadata": {},
   "outputs": [],
   "source": [
    "class AveragingModels(BaseEstimator, RegressorMixin, TransformerMixin):\n",
    "    def __init__(self, models):\n",
    "        self.models = models\n",
    "        \n",
    "    def fit(self, X, y):\n",
    "        self.models_ = [clone(x) for x in self.models]\n",
    "        \n",
    "        for model in self.models_:\n",
    "            model.fit(X, y)\n",
    "\n",
    "        return self\n",
    "    \n",
    "    #Now we do the predictions for cloned models and average them\n",
    "    def predict(self, X):\n",
    "        predictions = np.column_stack([\n",
    "            model.predict(X) for model in self.models_\n",
    "        ])\n",
    "        return np.mean(predictions, axis=1)   \n"
   ]
  },
  {
   "cell_type": "code",
   "execution_count": 35,
   "metadata": {},
   "outputs": [
    {
     "name": "stdout",
     "output_type": "stream",
     "text": [
      " Averaged base models score: nan (nan)\n",
      "\n"
     ]
    }
   ],
   "source": [
    "averaged_models = AveragingModels(models = (ENet, GBoost,lasso))\n",
    "\n",
    "score = rmsle_cv(averaged_models)\n",
    "print(\" Averaged base models score: {:.4f} ({:.4f})\\n\".format(score.mean(), score.std()))\n"
   ]
  },
  {
   "cell_type": "code",
   "execution_count": null,
   "metadata": {},
   "outputs": [],
   "source": [
    "\n"
   ]
  },
  {
   "cell_type": "code",
   "execution_count": null,
   "metadata": {},
   "outputs": [],
   "source": []
  }
 ],
 "metadata": {
  "kernelspec": {
   "display_name": "Python 3",
   "language": "python",
   "name": "python3"
  },
  "language_info": {
   "codemirror_mode": {
    "name": "ipython",
    "version": 3
   },
   "file_extension": ".py",
   "mimetype": "text/x-python",
   "name": "python",
   "nbconvert_exporter": "python",
   "pygments_lexer": "ipython3",
   "version": "3.7.6"
  }
 },
 "nbformat": 4,
 "nbformat_minor": 4
}
